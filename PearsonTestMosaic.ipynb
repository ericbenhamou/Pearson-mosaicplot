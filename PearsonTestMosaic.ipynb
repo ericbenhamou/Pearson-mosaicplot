{
 "cells": [
  {
   "cell_type": "markdown",
   "metadata": {},
   "source": [
    "# Sample source code for 'Seven proofs of the Pearson Chi-squared independence test and its graphical interpretation'"
   ]
  },
  {
   "cell_type": "markdown",
   "metadata": {},
   "source": [
    "We provide below the source code and examples that are included in the paper 'Seven proofs of the Pearson Chi-squared independence test and its graphical interpretation' by Eric Benhamou and Valentin Melot\n",
    "\n",
    "The main idea is to add to a standard mosaic plot a confindence interval to visualize how close or far we\n",
    "are from accepting or rejecting the null hypothesis of non independence.\n",
    "\n",
    "For more details about the mathematical foundation, please refer to arxiv.org paper"
   ]
  },
  {
   "cell_type": "code",
   "execution_count": 1,
   "metadata": {},
   "outputs": [],
   "source": [
    "# general imports\n",
    "\n",
    "import pandas as pd\n",
    "import matplotlib.pyplot as plt\n",
    "import numpy as np\n",
    "import seaborn as sns\n",
    "import scipy.stats as scs"
   ]
  },
  {
   "cell_type": "code",
   "execution_count": 10,
   "metadata": {},
   "outputs": [],
   "source": [
    "\"\"\" \n",
    "mosaic plot function to display a 2 x2 contingency table and a confidence interval\n",
    "df should be a double-index for rows\n",
    "e.g.\n",
    "    Index_1          Index_2         Value                       \n",
    "    AA               C               30\n",
    "                     P               40\n",
    "    BB               C               50\n",
    "                     P               60\n",
    "order: how columns are order, by default, from the biggest to the smallest in term of category. Possible values are \n",
    "    - \"Size\" [default]\n",
    "    - \"Normal\" : as the columns are order in the input df\n",
    "    - list of column names to reorder the column\n",
    "    \n",
    "color_dictionary: should be a dictionary of color with key corresponding to (row_name,col_name)\n",
    "    if not provided used default color\n",
    "    \n",
    "\n",
    "return fig, ax\n",
    "\"\"\"\n",
    "\n",
    "def mosaic_plot(df, color_dictionary=None, row_labels=None, col_labels=None, top_label=None,\n",
    "                x_label=None, y_label=None, pad_x=0.01, pad_y=0.01, ax=None, order=\"Size\",\n",
    "                figsize=None, category=None, quantile=0.99, print_calculation=True):\n",
    "\n",
    "    if ax == None:\n",
    "        if figsize == None:\n",
    "            figsize = (len(df.columns), len(df.index.get_level_values(0).unique()))\n",
    "        fig, ax = plt.subplots(1,1, figsize=figsize)\n",
    "\n",
    "    size_col = df.sum().sort_values(ascending=False)\n",
    "    prop_com = size_col.div(size_col.sum())\n",
    "\n",
    "    if quantile < 1 and quantile > 0.5:\n",
    "        N = np.sum(df.values)\n",
    "        phat = np.sum(df.values[0,:]) / N\n",
    "        deltap = scs.norm.ppf(quantile) * np.sqrt(phat * (1-phat) / N)\n",
    "        if print_calculation:\n",
    "            print('Calculation')\n",
    "            print('N     =',N)\n",
    "            print('phat  =',phat)\n",
    "            print('deltap=',deltap)\n",
    "            print(' ')\n",
    "            print('Data')\n",
    "            print(df)\n",
    "            print(' ')\n",
    "\n",
    "    if order == \"Size\":\n",
    "        df = df[size_col.index.values]\n",
    "    elif order == \"Normal\":\n",
    "        prop_com = prop_com[df.columns]\n",
    "        size_col = size_col[df.columns]\n",
    "\n",
    "    default_colors = [\n",
    "            (0.65 ,  0.375,  0.375), #red light\n",
    "            (0.5 ,  0.25,  0.25),    #red dark\n",
    "            (0.25,  0.5 ,  0.25),    #green light\n",
    "            (0.125,  0.5  ,  0.125 ),#green dark\n",
    "    ]\n",
    "\n",
    "    if color_dictionary == None:\n",
    "        color_dictionary = {}\n",
    "    \n",
    "    x = 0    \n",
    "    for i0, j in enumerate(df.groupby(level=0).sum().iteritems()):\n",
    "        bot = 0\n",
    "        S = float(j[1].sum())\n",
    "        j0 = 0\n",
    "        for lab, k in j[1].iteritems():\n",
    "            key = (df.axes[0][i0], df.axes[1][j0])\n",
    "            if key not in color_dictionary:\n",
    "                color_dictionary[key] = default_colors[2*i0+j0]\n",
    "            ax.bar(x, k/S, width=prop_com[j[0]], bottom=bot, color=color_dictionary[key], lw=0, align=\"edge\")\n",
    "            bot += k/S + pad_y\n",
    "            j0 += 1\n",
    "        x += prop_com[j[0]] + pad_x\n",
    "        i0 += 1\n",
    "\n",
    "    ## Aesthetic of the plot and ticks\n",
    "    # Y-axis\n",
    "    true_y_labels = df.index\n",
    "    Yt = (df.groupby(level=0).sum().iloc[:,0].div(df.groupby(level=0).sum().iloc[:,0].sum())+pad_y).cumsum() - pad_y\n",
    "    Ytt = df.groupby(level=0).sum().iloc[:,0].div(df.groupby(level=0).sum().iloc[:,0].sum())\n",
    "    \n",
    "    if row_labels == None:\n",
    "        row_labels = Yt.index\n",
    "    ax.set_yticks(Yt - Ytt/2)\n",
    "    ax.set_yticklabels(row_labels)\n",
    "\n",
    "    ax.set_ylim(0, 1 + (len(j[1]) - 1) * pad_y)\n",
    "    if y_label == None:\n",
    "        y_label = df.index.names[0]\n",
    "        if y_label == None:\n",
    "            y_label = \"Y-axis\"\n",
    "    ax.set_ylabel(y_label)\n",
    "\n",
    "    # X-axis\n",
    "    if col_labels == None:\n",
    "        col_labels = prop_com.index\n",
    "    xticks = (prop_com + pad_x).cumsum() - pad_x - prop_com/2.\n",
    "    ax.set_xticks(xticks)\n",
    "    ax.set_xticklabels(col_labels)\n",
    "    ax.set_xlim(0, prop_com.sum() + pad_x * (len(prop_com)-1))\n",
    "\n",
    "    if x_label == None:\n",
    "        x_label = df.columns.name\n",
    "        if x_label == None:\n",
    "            x_label = \"X-axis\"\n",
    "    ax.set_xlabel(x_label)\n",
    "\n",
    "    # Top label\n",
    "    if top_label == None:\n",
    "        test = scs.chi2_contingency(df)\n",
    "        top_label = \"Mosaic Plot (Pearson p-value={:0.2f})\".format(test[1])\n",
    "        \n",
    "    if top_label:\n",
    "        ax2 = ax.twiny()\n",
    "        ax2.set_xlim(*ax.get_xlim())\n",
    "        ax2.set_xticks(xticks) \n",
    "        ax2.set_xticklabels(size_col.values.astype(int))\n",
    "        ax2.set_xlabel(top_label)\n",
    "        ax2.tick_params(top=False, right=False, pad=0, length=0)\n",
    "\n",
    "    # Ticks and axis settings\n",
    "\n",
    "    ax.tick_params(top=False, right=False, pad=5)\n",
    "    sns.despine(left=0, bottom=False, right=0, top=0, offset=3)\n",
    "\n",
    "    # Legend\n",
    "    plt.tight_layout(rect=[0, 0, .9, 0.95])\n",
    "    \n",
    "    # confidence interval\n",
    "    if quantile < 1 and quantile > 0.5:\n",
    "        lines=[(phat+deltap, \"w--\", {\"linewidth\": 2}),\n",
    "               (phat-deltap, \"w--\", {\"linewidth\": 2})]\n",
    "        for y, form, param in lines:\n",
    "            plt.plot([0, 1], [y, y], form, **param)\n",
    "    return fig, ax"
   ]
  },
  {
   "cell_type": "code",
   "execution_count": 11,
   "metadata": {},
   "outputs": [
    {
     "name": "stdout",
     "output_type": "stream",
     "text": [
      "Calculation\n",
      "N     = 200\n",
      "phat  = 0.5\n",
      "deltap= 0.0822488178567\n",
      " \n",
      "Data\n",
      "    C   D\n",
      "A  50  50\n",
      "B  50  50\n",
      " \n"
     ]
    },
    {
     "data": {
      "image/png": "[encoded data removed]",
      "text/plain": [
       "<Figure size 360x360 with 2 Axes>"
      ]
     },
     "metadata": {},
     "output_type": "display_data"
    }
   ],
   "source": [
    "#creation of a dataframe\n",
    "initial_data = np.array([[50, 50], [50, 50]])\n",
    "df = pd.DataFrame(initial_data, index = ['A', 'B'], columns = ['C', 'D'])\n",
    "fig, ax = mosaic_plot(df, figsize=(5,5))\n",
    "fig.savefig('initial_figure.png')"
   ]
  },
  {
   "cell_type": "code",
   "execution_count": 12,
   "metadata": {},
   "outputs": [
    {
     "name": "stdout",
     "output_type": "stream",
     "text": [
      "Calculation\n",
      "N     = 225\n",
      "phat  = 0.555555555556\n",
      "deltap= 0.077064770158\n",
      " \n",
      "Data\n",
      "    C   D\n",
      "A  75  50\n",
      "B  50  50\n",
      " \n"
     ]
    },
    {
     "data": {
      "image/png": "[encoded data removed]",
      "text/plain": [
       "<Figure size 360x360 with 2 Axes>"
      ]
     },
     "metadata": {},
     "output_type": "display_data"
    },
    {
     "name": "stdout",
     "output_type": "stream",
     "text": [
      "Calculation\n",
      "N     = 225\n",
      "phat  = 0.555555555556\n",
      "deltap= 0.077064770158\n",
      " \n",
      "Data\n",
      "    C   D\n",
      "A  50  75\n",
      "B  50  50\n",
      " \n"
     ]
    },
    {
     "data": {
      "image/png": "[encoded data removed]",
      "text/plain": [
       "<Figure size 360x360 with 2 Axes>"
      ]
     },
     "metadata": {},
     "output_type": "display_data"
    },
    {
     "name": "stdout",
     "output_type": "stream",
     "text": [
      "Calculation\n",
      "N     = 225\n",
      "phat  = 0.444444444444\n",
      "deltap= 0.077064770158\n",
      " \n",
      "Data\n",
      "    C   D\n",
      "A  50  50\n",
      "B  75  50\n",
      " \n"
     ]
    },
    {
     "data": {
      "image/png": "[encoded data removed]",
      "text/plain": [
       "<Figure size 360x360 with 2 Axes>"
      ]
     },
     "metadata": {},
     "output_type": "display_data"
    },
    {
     "name": "stdout",
     "output_type": "stream",
     "text": [
      "Calculation\n",
      "N     = 225\n",
      "phat  = 0.444444444444\n",
      "deltap= 0.077064770158\n",
      " \n",
      "Data\n",
      "    C   D\n",
      "A  50  50\n",
      "B  50  75\n",
      " \n"
     ]
    },
    {
     "data": {
      "image/png": "[encoded data removed]",
      "text/plain": [
       "<Figure size 360x360 with 2 Axes>"
      ]
     },
     "metadata": {},
     "output_type": "display_data"
    },
    {
     "name": "stdout",
     "output_type": "stream",
     "text": [
      "Calculation\n",
      "N     = 250\n",
      "phat  = 0.6\n",
      "deltap= 0.0720792525892\n",
      " \n",
      "Data\n",
      "     C   D\n",
      "A  100  50\n",
      "B   50  50\n",
      " \n"
     ]
    },
    {
     "data": {
      "image/png": "[encoded data removed]",
      "text/plain": [
       "<Figure size 360x360 with 2 Axes>"
      ]
     },
     "metadata": {},
     "output_type": "display_data"
    },
    {
     "name": "stdout",
     "output_type": "stream",
     "text": [
      "Calculation\n",
      "N     = 250\n",
      "phat  = 0.6\n",
      "deltap= 0.0720792525892\n",
      " \n",
      "Data\n",
      "    C    D\n",
      "A  50  100\n",
      "B  50   50\n",
      " \n"
     ]
    },
    {
     "data": {
      "image/png": "[encoded data removed]",
      "text/plain": [
       "<Figure size 360x360 with 2 Axes>"
      ]
     },
     "metadata": {},
     "output_type": "display_data"
    },
    {
     "name": "stdout",
     "output_type": "stream",
     "text": [
      "Calculation\n",
      "N     = 250\n",
      "phat  = 0.4\n",
      "deltap= 0.0720792525892\n",
      " \n",
      "Data\n",
      "     C   D\n",
      "A   50  50\n",
      "B  100  50\n",
      " \n"
     ]
    },
    {
     "data": {
      "image/png": "[encoded data removed]",
      "text/plain": [
       "<Figure size 360x360 with 2 Axes>"
      ]
     },
     "metadata": {},
     "output_type": "display_data"
    },
    {
     "name": "stdout",
     "output_type": "stream",
     "text": [
      "Calculation\n",
      "N     = 250\n",
      "phat  = 0.4\n",
      "deltap= 0.0720792525892\n",
      " \n",
      "Data\n",
      "    C    D\n",
      "A  50   50\n",
      "B  50  100\n",
      " \n"
     ]
    },
    {
     "data": {
      "image/png": "[encoded data removed]",
      "text/plain": [
       "<Figure size 360x360 with 2 Axes>"
      ]
     },
     "metadata": {},
     "output_type": "display_data"
    },
    {
     "name": "stdout",
     "output_type": "stream",
     "text": [
      "Calculation\n",
      "N     = 350\n",
      "phat  = 0.714285714286\n",
      "deltap= 0.0561749372493\n",
      " \n",
      "Data\n",
      "     C   D\n",
      "A  200  50\n",
      "B   50  50\n",
      " \n"
     ]
    },
    {
     "data": {
      "image/png": "[encoded data removed]",
      "text/plain": [
       "<Figure size 360x360 with 2 Axes>"
      ]
     },
     "metadata": {},
     "output_type": "display_data"
    },
    {
     "name": "stdout",
     "output_type": "stream",
     "text": [
      "Calculation\n",
      "N     = 350\n",
      "phat  = 0.714285714286\n",
      "deltap= 0.0561749372493\n",
      " \n",
      "Data\n",
      "    C    D\n",
      "A  50  200\n",
      "B  50   50\n",
      " \n"
     ]
    },
    {
     "data": {
      "image/png": "[encoded data removed]",
      "text/plain": [
       "<Figure size 360x360 with 2 Axes>"
      ]
     },
     "metadata": {},
     "output_type": "display_data"
    },
    {
     "name": "stdout",
     "output_type": "stream",
     "text": [
      "Calculation\n",
      "N     = 350\n",
      "phat  = 0.285714285714\n",
      "deltap= 0.0561749372493\n",
      " \n",
      "Data\n",
      "     C   D\n",
      "A   50  50\n",
      "B  200  50\n",
      " \n"
     ]
    },
    {
     "data": {
      "image/png": "[encoded data removed]",
      "text/plain": [
       "<Figure size 360x360 with 2 Axes>"
      ]
     },
     "metadata": {},
     "output_type": "display_data"
    },
    {
     "name": "stdout",
     "output_type": "stream",
     "text": [
      "Calculation\n",
      "N     = 350\n",
      "phat  = 0.285714285714\n",
      "deltap= 0.0561749372493\n",
      " \n",
      "Data\n",
      "    C    D\n",
      "A  50   50\n",
      "B  50  200\n",
      " \n"
     ]
    },
    {
     "data": {
      "image/png": "[encoded data removed]",
      "text/plain": [
       "<Figure size 360x360 with 2 Axes>"
      ]
     },
     "metadata": {},
     "output_type": "display_data"
    }
   ],
   "source": [
    "# replace any value by 100 and plot\n",
    "change_values = [75, 100, 200]\n",
    "\n",
    "for change_value in change_values:\n",
    "    for i in range(2):\n",
    "        for j in range(2):\n",
    "            data = initial_data.copy()\n",
    "            data[i,j] = change_value\n",
    "            df = pd.DataFrame(data, index = ['A', 'B'], columns = ['C', 'D'])\n",
    "            fig, ax = mosaic_plot(df, figsize=(5,5))\n",
    "            fig.savefig('mosaic-{0}-{1}.png'.format(change_value, i*2+j+1))\n",
    "            plt.show()"
   ]
  }
 ],
 "metadata": {
  "kernelspec": {
   "display_name": "Python 3",
   "language": "python",
   "name": "python3"
  },
  "language_info": {
   "codemirror_mode": {
    "name": "ipython",
    "version": 3
   },
   "file_extension": ".py",
   "mimetype": "text/x-python",
   "name": "python",
   "nbconvert_exporter": "python",
   "pygments_lexer": "ipython3",
   "version": "3.6.5"
  }
 },
 "nbformat": 4,
 "nbformat_minor": 2
}
